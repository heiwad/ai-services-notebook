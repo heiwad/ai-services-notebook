{
 "cells": [
  {
   "cell_type": "markdown",
   "metadata": {},
   "source": [
    "# Fun with AI Services\n",
    "\n",
    "In this notebook we'll start with an image and work our way through\n",
    "\n",
    "- text detection with Rekognition\n",
    "- text to speech with Polly\n",
    "- audio to text with Transcribe\n",
    "- english text to french text with Translate\n",
    "- syntax and sentiment analysis of text with Comprehend"
   ]
  },
  {
   "cell_type": "markdown",
   "metadata": {},
   "source": [
    "# Some setup code"
   ]
  },
  {
   "cell_type": "code",
   "execution_count": null,
   "metadata": {},
   "outputs": [],
   "source": [
    "import boto3\n",
    "\n",
    "import time\n",
    "import requests\n",
    "import json\n",
    "import uuid\n",
    "import IPython\n",
    "import io\n",
    "from PIL import Image, ImageDraw, ExifTags, ImageColor, ImageFont\n",
    "\n",
    "import helper as helper # some extra python code hidden from the notebook to make it simpler"
   ]
  },
  {
   "cell_type": "markdown",
   "metadata": {},
   "source": [
    "# Let's start with uploading an image to S3\n",
    "\n",
    "Make sure you have an S3 bucket. If you don't, create one. We'll be using it throughout the demo."
   ]
  },
  {
   "cell_type": "code",
   "execution_count": null,
   "metadata": {},
   "outputs": [],
   "source": [
    "import boto3\n",
    "\n",
    "region_name = 'us-west-2'\n",
    "bucket_name = '<<your-own-bucket>>'\n",
    "image_file='./free-pizza.jpg'\n",
    "image_key = 'img/free-pizza.jpg'\n",
    "\n",
    "bucket = boto3.resource('s3',region_name=region_name).Bucket(bucket_name)\n",
    "image_object = bucket.put_object(Key=image_key,Body=open(image_file,'rb'))\n",
    "\n",
    "\n",
    "print(image_object)\n",
    "image = Image.open(image_file)\n",
    "image"
   ]
  },
  {
   "cell_type": "markdown",
   "metadata": {},
   "source": [
    "# Rekognition - Detect Text"
   ]
  },
  {
   "cell_type": "code",
   "execution_count": null,
   "metadata": {
    "scrolled": true
   },
   "outputs": [],
   "source": [
    "rekog = boto3.client('rekognition',region_name=region_name)\n",
    "image = {'S3Object': {\n",
    "            'Bucket': bucket_name ,\n",
    "            'Name': image_key }\n",
    "        }\n",
    "\n",
    "results = rekog.detect_text(Image=image)\n",
    "results['TextDetections']\n"
   ]
  },
  {
   "cell_type": "code",
   "execution_count": null,
   "metadata": {},
   "outputs": [],
   "source": [
    "helper.display_image_text(bucket_name,image_key,results,90,region_name) # only show confident text"
   ]
  },
  {
   "cell_type": "code",
   "execution_count": null,
   "metadata": {},
   "outputs": [],
   "source": [
    "lines = []\n",
    "for candidate in results['TextDetections']:\n",
    "    if candidate['Type'] == 'LINE' and candidate['Confidence'] >= 95: # Pick a threshold!\n",
    "        lines.append(candidate['DetectedText'])\n",
    "\n",
    "text = ' '.join(lines)\n",
    "text"
   ]
  },
  {
   "cell_type": "markdown",
   "metadata": {},
   "source": [
    "# Polly speaks the audio"
   ]
  },
  {
   "cell_type": "code",
   "execution_count": null,
   "metadata": {},
   "outputs": [],
   "source": [
    "import boto3\n",
    "polly = boto3.client('polly',region_name=region_name)\n",
    "voices_result = polly.describe_voices(LanguageCode='en-US')\n",
    "\n",
    "\n",
    "#### \n",
    "voice_num = 1\n",
    "voice_id = voices_result['Voices'][voice_num]['Id']\n",
    "voice_engine = voices_result['Voices'][voice_num]['SupportedEngines'][0]\n",
    "\n",
    "###\n",
    "\n",
    "print(\"Other available voices include...\")\n",
    "voices_result['Voices'][0:3]"
   ]
  },
  {
   "cell_type": "code",
   "execution_count": null,
   "metadata": {},
   "outputs": [],
   "source": [
    "print(\"Using voice: \" + voice_id)\n",
    "print(\"Using engine: \" + voice_engine)\n",
    "\n",
    "request = { \"Text\" : text,\n",
    "           \"VoiceId\": voice_id,\n",
    "           \"LanguageCode\": 'en-US',\n",
    "           \"Engine\": voice_engine ,\n",
    "           \"OutputFormat\" : 'mp3'\n",
    "}\n",
    "\n",
    "result = polly.synthesize_speech(**request)\n",
    "audio = result['AudioStream'].read()\n",
    "\n",
    "IPython.display.Audio(audio)\n"
   ]
  },
  {
   "cell_type": "code",
   "execution_count": null,
   "metadata": {},
   "outputs": [],
   "source": [
    "audio_key = 'audio/pizza.mp3'\n",
    "\n",
    "# Upload the audio to Amazon S3\n",
    "signed_url = helper.upload_and_get_url(bucket_name=bucket_name,\n",
    "                         key=audio_key,\n",
    "                         audio=audio,region_name=region_name)\n",
    "\n",
    "print(signed_url)"
   ]
  },
  {
   "cell_type": "markdown",
   "metadata": {},
   "source": [
    "# Transcribe recreates text from audio\n",
    "\n",
    "Note: You can optionally specify an s3 bucket for results otherwise Transcribe will manage the location for the results.\n",
    "\n",
    "For streaming audio, see https://github.com/awslabs/amazon-transcribe-streaming-sdk\n"
   ]
  },
  {
   "cell_type": "code",
   "execution_count": null,
   "metadata": {},
   "outputs": [],
   "source": [
    "transcribe = boto3.client('transcribe',region_name=region_name)"
   ]
  },
  {
   "cell_type": "code",
   "execution_count": null,
   "metadata": {},
   "outputs": [],
   "source": [
    "job_name = uuid.uuid4().hex # using random job names for demo\n",
    "\n",
    "request= {\n",
    "    \"TranscriptionJobName\" : job_name,\n",
    "    \"LanguageCode\" : 'en-US',\n",
    "    \"MediaSampleRateHertz\": 24000, # 22050 for standard, 24000 for neural\n",
    "    \"MediaFormat\" : 'mp3',\n",
    "    \"Media\" : { \"MediaFileUri\":\n",
    "               f\"s3://{bucket_name}/{audio_key}\"\n",
    "              }\n",
    "}\n",
    "\n",
    "result = transcribe.start_transcription_job(**request)"
   ]
  },
  {
   "cell_type": "code",
   "execution_count": null,
   "metadata": {},
   "outputs": [],
   "source": [
    "result = helper.wait_for_job(job_name,transcribe) \n",
    "text = helper.get_text_from_transcription_job(result)\n",
    "      \n",
    "text\n"
   ]
  },
  {
   "cell_type": "markdown",
   "metadata": {},
   "source": [
    "# Translate"
   ]
  },
  {
   "cell_type": "code",
   "execution_count": null,
   "metadata": {},
   "outputs": [],
   "source": [
    "text = \"This is a really cool pizza. Thank you so much. I'm verry happy.\"\n",
    "translate = boto3.client('translate')\n",
    "request = {\n",
    "    'Text': text,\n",
    "    'SourceLanguageCode' : 'en',\n",
    "    'TargetLanguageCode' : 'fr'\n",
    "}\n",
    "\n",
    "result =  translate.translate_text(**request)\n",
    "french_text = result['TranslatedText']\n",
    "french_text"
   ]
  },
  {
   "cell_type": "markdown",
   "metadata": {},
   "source": [
    "# Comprehend"
   ]
  },
  {
   "cell_type": "code",
   "execution_count": null,
   "metadata": {},
   "outputs": [],
   "source": [
    "comprehend = boto3.client('comprehend')"
   ]
  },
  {
   "cell_type": "code",
   "execution_count": null,
   "metadata": {},
   "outputs": [],
   "source": [
    "result = comprehend.detect_dominant_language(Text=french_text)\n",
    "lang = result['Languages'][0]['LanguageCode']\n",
    "result['Languages']"
   ]
  },
  {
   "cell_type": "code",
   "execution_count": null,
   "metadata": {},
   "outputs": [],
   "source": [
    "result = comprehend.detect_sentiment(Text=french_text,LanguageCode=lang)\n",
    "\n",
    "print('%s : %s' % ('Sentiment',result['Sentiment']))\n",
    "print('SentimentSore:')\n",
    "result['SentimentScore']"
   ]
  },
  {
   "cell_type": "code",
   "execution_count": null,
   "metadata": {},
   "outputs": [],
   "source": [
    "result = comprehend.detect_syntax(Text=french_text,LanguageCode=lang)\n",
    "result['SyntaxTokens']"
   ]
  },
  {
   "cell_type": "code",
   "execution_count": null,
   "metadata": {},
   "outputs": [],
   "source": [
    "result = comprehend.detect_key_phrases(Text=french_text,LanguageCode=lang)\n",
    "result['KeyPhrases']"
   ]
  },
  {
   "cell_type": "code",
   "execution_count": null,
   "metadata": {},
   "outputs": [],
   "source": [
    "comprehend.detect_entities(Text=french_text,LanguageCode=lang)"
   ]
  },
  {
   "cell_type": "markdown",
   "metadata": {},
   "source": [
    "# END"
   ]
  },
  {
   "cell_type": "markdown",
   "metadata": {},
   "source": [
    "# Appendix\n",
    "\n",
    "\n",
    "## Try the other voices\n",
    "\n",
    "This is some code to play with more voices"
   ]
  },
  {
   "cell_type": "code",
   "execution_count": null,
   "metadata": {},
   "outputs": [],
   "source": [
    "region_name='us-west-2'\n",
    "text= \"Free pizza in the kitchen\"\n",
    "import IPython\n",
    "import boto3\n",
    "polly = boto3.client('polly',region_name=region_name)\n"
   ]
  },
  {
   "cell_type": "code",
   "execution_count": null,
   "metadata": {},
   "outputs": [],
   "source": [
    "import voice_selectors"
   ]
  },
  {
   "cell_type": "code",
   "execution_count": null,
   "metadata": {},
   "outputs": [],
   "source": [
    "\n",
    "request = { \"Text\" : text,\n",
    "           \"VoiceId\": voice_selectors.get_voice(),\n",
    "           \"LanguageCode\": voice_selectors.get_lang(),\n",
    "           \"OutputFormat\" : 'mp3'\n",
    "}\n",
    "\n",
    "result = polly.synthesize_speech(**request)\n",
    "audio = result['AudioStream'].read()\n",
    "IPython.display.Audio(audio)"
   ]
  }
 ],
 "metadata": {
  "kernelspec": {
   "display_name": "conda_python3",
   "language": "python",
   "name": "conda_python3"
  },
  "language_info": {
   "codemirror_mode": {
    "name": "ipython",
    "version": 3
   },
   "file_extension": ".py",
   "mimetype": "text/x-python",
   "name": "python",
   "nbconvert_exporter": "python",
   "pygments_lexer": "ipython3",
   "version": "3.6.13"
  }
 },
 "nbformat": 4,
 "nbformat_minor": 2
}
